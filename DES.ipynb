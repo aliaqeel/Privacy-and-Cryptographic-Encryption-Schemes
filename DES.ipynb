{
  "nbformat": 4,
  "nbformat_minor": 0,
  "metadata": {
    "colab": {
      "name": "BigAssignment1DES.ipynb",
      "provenance": [],
      "collapsed_sections": []
    },
    "kernelspec": {
      "name": "python3",
      "display_name": "Python 3"
    },
    "language_info": {
      "name": "python"
    }
  },
  "cells": [
    {
      "cell_type": "code",
      "metadata": {
        "colab": {
          "base_uri": "https://localhost:8080/"
        },
        "id": "uQf3WJzuLksr",
        "outputId": "796f3153-f9cc-4cd8-bd7d-d27dd3c58362"
      },
      "source": [
        "!pip install pycrypto"
      ],
      "execution_count": 1,
      "outputs": [
        {
          "output_type": "stream",
          "name": "stdout",
          "text": [
            "Collecting pycrypto\n",
            "  Downloading pycrypto-2.6.1.tar.gz (446 kB)\n",
            "\u001b[?25l\r\u001b[K     |▊                               | 10 kB 15.5 MB/s eta 0:00:01\r\u001b[K     |█▌                              | 20 kB 17.7 MB/s eta 0:00:01\r\u001b[K     |██▏                             | 30 kB 20.7 MB/s eta 0:00:01\r\u001b[K     |███                             | 40 kB 18.8 MB/s eta 0:00:01\r\u001b[K     |███▊                            | 51 kB 5.8 MB/s eta 0:00:01\r\u001b[K     |████▍                           | 61 kB 6.3 MB/s eta 0:00:01\r\u001b[K     |█████▏                          | 71 kB 5.7 MB/s eta 0:00:01\r\u001b[K     |█████▉                          | 81 kB 6.4 MB/s eta 0:00:01\r\u001b[K     |██████▋                         | 92 kB 6.3 MB/s eta 0:00:01\r\u001b[K     |███████▍                        | 102 kB 5.4 MB/s eta 0:00:01\r\u001b[K     |████████                        | 112 kB 5.4 MB/s eta 0:00:01\r\u001b[K     |████████▉                       | 122 kB 5.4 MB/s eta 0:00:01\r\u001b[K     |█████████▌                      | 133 kB 5.4 MB/s eta 0:00:01\r\u001b[K     |██████████▎                     | 143 kB 5.4 MB/s eta 0:00:01\r\u001b[K     |███████████                     | 153 kB 5.4 MB/s eta 0:00:01\r\u001b[K     |███████████▊                    | 163 kB 5.4 MB/s eta 0:00:01\r\u001b[K     |████████████▌                   | 174 kB 5.4 MB/s eta 0:00:01\r\u001b[K     |█████████████▏                  | 184 kB 5.4 MB/s eta 0:00:01\r\u001b[K     |██████████████                  | 194 kB 5.4 MB/s eta 0:00:01\r\u001b[K     |██████████████▊                 | 204 kB 5.4 MB/s eta 0:00:01\r\u001b[K     |███████████████▍                | 215 kB 5.4 MB/s eta 0:00:01\r\u001b[K     |████████████████▏               | 225 kB 5.4 MB/s eta 0:00:01\r\u001b[K     |█████████████████               | 235 kB 5.4 MB/s eta 0:00:01\r\u001b[K     |█████████████████▋              | 245 kB 5.4 MB/s eta 0:00:01\r\u001b[K     |██████████████████▍             | 256 kB 5.4 MB/s eta 0:00:01\r\u001b[K     |███████████████████             | 266 kB 5.4 MB/s eta 0:00:01\r\u001b[K     |███████████████████▉            | 276 kB 5.4 MB/s eta 0:00:01\r\u001b[K     |████████████████████▋           | 286 kB 5.4 MB/s eta 0:00:01\r\u001b[K     |█████████████████████▎          | 296 kB 5.4 MB/s eta 0:00:01\r\u001b[K     |██████████████████████          | 307 kB 5.4 MB/s eta 0:00:01\r\u001b[K     |██████████████████████▊         | 317 kB 5.4 MB/s eta 0:00:01\r\u001b[K     |███████████████████████▌        | 327 kB 5.4 MB/s eta 0:00:01\r\u001b[K     |████████████████████████▎       | 337 kB 5.4 MB/s eta 0:00:01\r\u001b[K     |█████████████████████████       | 348 kB 5.4 MB/s eta 0:00:01\r\u001b[K     |█████████████████████████▊      | 358 kB 5.4 MB/s eta 0:00:01\r\u001b[K     |██████████████████████████▍     | 368 kB 5.4 MB/s eta 0:00:01\r\u001b[K     |███████████████████████████▏    | 378 kB 5.4 MB/s eta 0:00:01\r\u001b[K     |████████████████████████████    | 389 kB 5.4 MB/s eta 0:00:01\r\u001b[K     |████████████████████████████▋   | 399 kB 5.4 MB/s eta 0:00:01\r\u001b[K     |█████████████████████████████▍  | 409 kB 5.4 MB/s eta 0:00:01\r\u001b[K     |██████████████████████████████  | 419 kB 5.4 MB/s eta 0:00:01\r\u001b[K     |██████████████████████████████▉ | 430 kB 5.4 MB/s eta 0:00:01\r\u001b[K     |███████████████████████████████▋| 440 kB 5.4 MB/s eta 0:00:01\r\u001b[K     |████████████████████████████████| 446 kB 5.4 MB/s \n",
            "\u001b[?25hBuilding wheels for collected packages: pycrypto\n",
            "  Building wheel for pycrypto (setup.py) ... \u001b[?25l\u001b[?25hdone\n",
            "  Created wheel for pycrypto: filename=pycrypto-2.6.1-cp37-cp37m-linux_x86_64.whl size=499932 sha256=65b088edcb6396c8245d7024d7155dc145199334eebd3f20aa6a04c225079216\n",
            "  Stored in directory: /root/.cache/pip/wheels/cf/85/ba/bbd7c96add459de7598fb424e5ff2309baf2095c844ac0f191\n",
            "Successfully built pycrypto\n",
            "Installing collected packages: pycrypto\n",
            "Successfully installed pycrypto-2.6.1\n"
          ]
        }
      ]
    },
    {
      "cell_type": "code",
      "metadata": {
        "id": "7oLhbiSxLyKx"
      },
      "source": [
        "from Crypto.Cipher import DES"
      ],
      "execution_count": 2,
      "outputs": []
    },
    {
      "cell_type": "code",
      "metadata": {
        "id": "R4ekkRs6L8L1"
      },
      "source": [
        "def hex2string(hex_message):\n",
        "    '''\n",
        "    >>> hex2string('61')\n",
        "    'a'\n",
        "    >>> hex2string('776f726c64')\n",
        "    'world'\n",
        "    >>> hex2string('68656c6c6f')\n",
        "    'hello'\n",
        "    '''\n",
        "    ret = \"\"\n",
        "    for i in range(0,len(hex_message),2):\n",
        "        ret += chr(int(hex_message[i:i+2],16))\n",
        "\n",
        "    return ret"
      ],
      "execution_count": 3,
      "outputs": []
    },
    {
      "cell_type": "code",
      "metadata": {
        "id": "vFgEm-AbL-h1"
      },
      "source": [
        "def bin2hex(binary):\n",
        "\n",
        "    return hex(int(binary, 2))\n",
        "\n",
        "def string2hex(message):\n",
        "    ret = \"\"\n",
        "    for c in message:\n",
        "        ret += hex(ord(c))[2:].rjust(2,'0')\n",
        "    return ret\n",
        "\n",
        "def hex2bin(hex_value):\n",
        "    return bin(int(hex_value, 16))[2:].zfill(8)"
      ],
      "execution_count": 4,
      "outputs": []
    },
    {
      "cell_type": "code",
      "metadata": {
        "id": "t12Y16xxMBmt"
      },
      "source": [
        "key_shifts = [1, 1, 2, 2, 2, 2, 2, 2, 1, 2, 2, 2, 2, 2, 2, 1]\n",
        "\n",
        "PC1 = [57, 49, 41, 33, 25, 17, 9, 1, 58, 50, 42, 34, 26, 18, 10, 2, 59, 51, 43, 35, 27, 19, 11, 3, 60, 52, 44, 36, 63,\n",
        "       55, 47, 39, 31, 23, 15, 7, 62, 54, 46, 38, 30, 22, 14, 6, 61, 53, 45, 37, 29, 21, 13, 5, 28, 20, 12, 4]\n",
        "\n",
        "PC2 = [14, 17, 11, 24, 1, 5, 3, 28, 15, 6, 21, 10, 23, 19, 12, 4, 26, 8, 16, 7, 27, 20, 13, 2, 41, 52, 31, 37, 47, 55,\n",
        "       30, 40, 51, 45, 33, 48, 44, 49, 39, 56, 34, 53, 46, 42, 50, 36, 29, 32]\n",
        "\n",
        "IP = [58, 50, 42, 34, 26, 18, 10, 2,\n",
        "      60, 52, 44, 36, 28, 20, 12, 4,\n",
        "      62, 54, 46, 38, 30, 22, 14, 6,\n",
        "      64, 56, 48, 40, 32, 24, 16, 8,\n",
        "      57, 49, 41, 33, 25, 17, 9, 1,\n",
        "      59, 51, 43, 35, 27, 19, 11, 3,\n",
        "      61, 53, 45, 37, 29, 21, 13, 5,\n",
        "      63, 55, 47, 39, 31, 23, 15, 7]\n",
        "\n",
        "E = [32, 1, 2, 3, 4, 5, 4, 5, 6, 7, 8, 9, 8, 9, 10, 11, 12, 13, 12, 13, 14, 15, 16, 17, 16, 17, 18, 19, 20, 21, 20, 21,\n",
        "     22, 23, 24, 25, 24, 25, 26, 27, 28, 29, 28, 29, 30, 31, 32, 1]\n",
        "IP_inverse = [40, 8, 48, 16, 56, 24, 64, 32,\n",
        "              39, 7, 47, 15, 55, 23, 63, 31,\n",
        "              38, 6, 46, 14, 54, 22, 62, 30,\n",
        "              37, 5, 45, 13, 53, 21, 61, 29,\n",
        "              36, 4, 44, 12, 52, 20, 60, 28,\n",
        "              35, 3, 43, 11, 51, 19, 59, 27,\n",
        "              34, 2, 42, 10, 50, 18, 58, 26,\n",
        "              33, 1, 41, 9, 49, 17, 57, 25]\n",
        "S = \\\n",
        "[\n",
        "    [\n",
        "        [14, 4, 13, 1, 2, 15, 11, 8, 3, 10, 6, 12, 5, 9, 0, 7],\n",
        "        [0, 15, 7, 4, 14, 2, 13, 1, 10, 6, 12, 11, 9, 5, 3, 8],\n",
        "        [4, 1, 14, 8, 13, 6, 2, 11, 15, 12, 9, 7, 3, 10, 5, 0],\n",
        "        [15, 12, 8, 2, 4, 9, 1, 7, 5, 11, 3, 14, 10, 0, 6, 13]\n",
        "    ],\n",
        "    [\n",
        "        [15, 1, 8, 14, 6, 11, 3, 4, 9, 7, 2, 13, 12, 0, 5, 10],\n",
        "        [3, 13, 4, 7, 15, 2, 8, 14, 12, 0, 1, 10, 6, 9, 11, 5],\n",
        "        [0, 14, 7, 11, 10, 4, 13, 1, 5, 8, 12, 6, 9, 3, 2, 15],\n",
        "        [13, 8, 10, 1, 3, 15, 4, 2, 11, 6, 7, 12, 0, 5, 14, 9]\n",
        "    ],\n",
        "    [\n",
        "        [10, 0, 9, 14, 6, 3, 15, 5, 1, 13, 12, 7, 11, 4, 2, 8],\n",
        "        [13, 7, 0, 9, 3, 4, 6, 10, 2, 8, 5, 14, 12, 11, 15, 1],\n",
        "        [13, 6, 4, 9, 8, 15, 3, 0, 11, 1, 2, 12, 5, 10, 14, 7],\n",
        "        [1, 10, 13, 0, 6, 9, 8, 7, 4, 15, 14, 3, 11, 5, 2, 12]\n",
        "    ],\n",
        "    [\n",
        "        [7, 13, 14, 3, 0, 6, 9, 10, 1, 2, 8, 5, 11, 12, 4, 15],\n",
        "        [13, 8, 11, 5, 6, 15, 0, 3, 4, 7, 2, 12, 1, 10, 14, 9],\n",
        "        [10, 6, 9, 0, 12, 11, 7, 13, 15, 1, 3, 14, 5, 2, 8, 4],\n",
        "        [3, 15, 0, 6, 10, 1, 13, 8, 9, 4, 5, 11, 12, 7, 2, 14]\n",
        "    ],\n",
        "    [\n",
        "        [2, 12, 4, 1, 7, 10, 11, 6, 8, 5, 3, 15, 13, 0, 14, 9],\n",
        "        [14, 11, 2, 12, 4, 7, 13, 1, 5, 0, 15, 10, 3, 9, 8, 6],\n",
        "        [4, 2, 1, 11, 10, 13, 7, 8, 15, 9, 12, 5, 6, 3, 0, 14],\n",
        "        [11, 8, 12, 7, 1, 14, 2, 13, 6, 15, 0, 9, 10, 4, 5, 3]\n",
        "    ],\n",
        "    [\n",
        "        [12, 1, 10, 15, 9, 2, 6, 8, 0, 13, 3, 4, 14, 7, 5, 11],\n",
        "        [10, 15, 4, 2, 7, 12, 9, 5, 6, 1, 13, 14, 0, 11, 3, 8],\n",
        "        [9, 14, 15, 5, 2, 8, 12, 3, 7, 0, 4, 10, 1, 13, 11, 6],\n",
        "        [4, 3, 2, 12, 9, 5, 15, 10, 11, 14, 1, 7, 6, 0, 8, 13]\n",
        "    ],\n",
        "    [\n",
        "        [4, 11, 2, 14, 15, 0, 8, 13, 3, 12, 9, 7, 5, 10, 6, 1],\n",
        "        [13, 0, 11, 7, 4, 9, 1, 10, 14, 3, 5, 12, 2, 15, 8, 6],\n",
        "        [1, 4, 11, 13, 12, 3, 7, 14, 10, 15, 6, 8, 0, 5, 9, 2],\n",
        "        [6, 11, 13, 8, 1, 4, 10, 7, 9, 5, 0, 15, 14, 2, 3, 12]\n",
        "    ],\n",
        "    [\n",
        "        [13, 2, 8, 4, 6, 15, 11, 1, 10, 9, 3, 14, 5, 0, 12, 7],\n",
        "        [1, 15, 13, 8, 10, 3, 7, 4, 12, 5, 6, 11, 0, 14, 9, 2],\n",
        "        [7, 11, 4, 1, 9, 12, 14, 2, 0, 6, 10, 13, 15, 3, 5, 8],\n",
        "        [2, 1, 14, 7, 4, 10, 8, 13, 15, 12, 9, 0, 3, 5, 6, 11]\n",
        "    ]\n",
        "]\n",
        "\n",
        "P = [\n",
        "    16, 7, 20, 21, 29, 12, 28, 17,\n",
        "    1, 15, 23, 26, 5, 18, 31, 10,\n",
        "    2, 8, 24, 14, 32, 27, 3, 9,\n",
        "    19, 13, 30, 6, 22, 11, 4, 25]"
      ],
      "execution_count": 5,
      "outputs": []
    },
    {
      "cell_type": "code",
      "metadata": {
        "id": "98nO5fZGMFbF"
      },
      "source": [
        "def left_shift(a,steps):\n",
        "    a1=a[steps:]\n",
        "    a2=a[:steps]\n",
        "    result = a1 + a2\n",
        "    return result"
      ],
      "execution_count": 15,
      "outputs": []
    },
    {
      "cell_type": "code",
      "metadata": {
        "id": "JVULGMFqMJHV"
      },
      "source": [
        "def bytes2binary(arr):\n",
        "\n",
        "    temp=str(hex2bin(arr.hex()))\n",
        "\n",
        "    answer =  temp\n",
        "    return answer"
      ],
      "execution_count": 6,
      "outputs": []
    },
    {
      "cell_type": "code",
      "metadata": {
        "colab": {
          "base_uri": "https://localhost:8080/"
        },
        "id": "VBWpBPVFMKWX",
        "outputId": "c1799fe1-2db0-480c-b3bc-a81aa9ac1f4d"
      },
      "source": [
        "print('bytes to binary')\n",
        "print(bytes2binary(b'\\x01'))\n",
        "print(bytes2binary(b'\\x03'))\n",
        "print(bytes2binary(b'\\xf0'))\n",
        "print(bytes2binary(b'\\xf0\\x80'))"
      ],
      "execution_count": null,
      "outputs": [
        {
          "output_type": "stream",
          "name": "stdout",
          "text": [
            "bytes to binary\n",
            "00000001\n",
            "00000011\n",
            "11110000\n",
            "1111000010000000\n"
          ]
        }
      ]
    },
    {
      "cell_type": "code",
      "metadata": {
        "colab": {
          "base_uri": "https://localhost:8080/"
        },
        "id": "CevcouoUMM0W",
        "outputId": "876a15b4-e2a5-47f9-c1f0-4b4473876f74"
      },
      "source": [
        "def binary2bytes(string): #took help from stackoverflow\n",
        "    # https://stackoverflow.com/questions/32675679/convert-binary-string-to-bytearray-in-python-3\n",
        "\n",
        "    integer = int(string, 2)\n",
        "    b = bytearray()\n",
        "    while integer:\n",
        "        b.append(integer & 0xff)\n",
        "        integer >>= 8\n",
        "    return bytes(b[::-1])\n",
        "\n",
        "print('bytes to binary')\n",
        "print(binary2bytes('00000001'))\n",
        "print(binary2bytes('00000011'))\n",
        "print(binary2bytes('11110000'))\n",
        "print(binary2bytes('1111000010000000'))"
      ],
      "execution_count": 7,
      "outputs": [
        {
          "output_type": "stream",
          "name": "stdout",
          "text": [
            "bytes to binary\n",
            "b'\\x01'\n",
            "b'\\x03'\n",
            "b'\\xf0'\n",
            "b'\\xf0\\x80'\n"
          ]
        }
      ]
    },
    {
      "cell_type": "code",
      "metadata": {
        "colab": {
          "base_uri": "https://localhost:8080/"
        },
        "id": "WPRbtDvZMRPN",
        "outputId": "7bed7311-de34-487b-8888-db52ca42a29d"
      },
      "source": [
        "def bin_xor(a, b):\n",
        "\n",
        "    astring = a.zfill(max(len(a),len(b)))\n",
        "    bstring = b.zfill(max(len(a),len(b)))\n",
        "    answer = ''\n",
        "    for i in range(len(astring)):\n",
        "        part1 = astring[i]\n",
        "        part2 = bstring[i]\n",
        "        if part1 == part2:\n",
        "            answer =answer + \"0\"\n",
        "        else:\n",
        "            answer = answer +  \"1\"\n",
        "    return answer\n",
        "\n",
        "print(\"binary xor\")\n",
        "print(bin_xor('1011','0000'))\n",
        "print(bin_xor('1','0000'))\n",
        "print(bin_xor('1101','1011'))\n",
        "print(bin_xor('10101010','01010101'))"
      ],
      "execution_count": 8,
      "outputs": [
        {
          "output_type": "stream",
          "name": "stdout",
          "text": [
            "binary xor\n",
            "1011\n",
            "0001\n",
            "0110\n",
            "11111111\n"
          ]
        }
      ]
    },
    {
      "cell_type": "code",
      "metadata": {
        "colab": {
          "base_uri": "https://localhost:8080/"
        },
        "id": "bzh3hx1zMXkl",
        "outputId": "e36355e7-ba9e-4e08-8937-953a58939f7e"
      },
      "source": [
        "print('DES SUBkeys')\n",
        "def des_subkeys_creation(K):\n",
        "    temporarykey = ''\n",
        "    for z in K:\n",
        "        while len(temporarykey) < len(PC1):\n",
        "            for iter1 in PC1:\n",
        "                for iter2 in range(64):\n",
        "                    if iter1 == iter2:\n",
        "                        temporarykey =temporarykey + K[iter1-1]\n",
        "    C_key = temporarykey[0:28]\n",
        "    D_key = temporarykey[28:57]\n",
        "    answer_keys = []\n",
        "    for i1 in range(len(key_shifts)):\n",
        "        C_key = left_shift(C_key, key_shifts[i1])\n",
        "        D_key = left_shift(D_key, key_shifts[i1])\n",
        "        concatenated_string = C_key + D_key\n",
        "        final_s = ''\n",
        "        while len(final_s) < len(PC2):\n",
        "            for iter1 in PC2:\n",
        "                for iter2 in range(57):\n",
        "                    if iter2 == iter1:\n",
        "                        final_s = final_s + concatenated_string[iter2 - 1]\n",
        "            answer_keys.append(final_s)\n",
        "    return answer_keys\n",
        "sub_keys=des_subkeys_creation('0001001100110100010101110111100110011011101111001101111111110001')"
      ],
      "execution_count": 16,
      "outputs": [
        {
          "output_type": "stream",
          "name": "stdout",
          "text": [
            "DES SUBkeys\n"
          ]
        }
      ]
    },
    {
      "cell_type": "code",
      "metadata": {
        "id": "ZbQOpuZnMYu_"
      },
      "source": [
        "def messagepermutation(m,typearray):\n",
        "    temporarykey = ''\n",
        "    for z in m:\n",
        "        while len(temporarykey) < len(typearray):\n",
        "            for iter1 in typearray:\n",
        "                for iter2 in range(len(typearray)+1):\n",
        "                    if iter1 == iter2:\n",
        "                        temporarykey = temporarykey + m[iter1 - 1]\n",
        "        return temporarykey\n",
        "\n",
        "message = messagepermutation('0000000100100011010001010110011110001001101010111100110111101111',IP)\n",
        "l_message = message[0:32]\n",
        "r_message = message[32:65]"
      ],
      "execution_count": 11,
      "outputs": []
    },
    {
      "cell_type": "code",
      "metadata": {
        "colab": {
          "base_uri": "https://localhost:8080/"
        },
        "id": "jFM5vV7pMcxF",
        "outputId": "da13c611-e57b-441f-b529-6a0dece31d47"
      },
      "source": [
        "def f_function(r0, key):\n",
        "    iter1 = 0\n",
        "    list1 = []\n",
        "    list = []\n",
        "    f_str = ''\n",
        "    r_out = messagepermutation(r0, E)\n",
        "    xored = bin_xor(r_out, key)\n",
        "    interim=''\n",
        "    interm1 =''\n",
        "    while iter1 < len(xored):\n",
        "        list1.append(xored[iter1:iter1 + 6])\n",
        "        iter1 = iter1 + 6\n",
        "    for iter2 in range(len(list1)):\n",
        "        list_bit = list1[iter2]\n",
        "        S_output = S[iter2]\n",
        "        interm =(list_bit[0] + list_bit[-1])\n",
        "        row_S = int(interm, 2)\n",
        "        interim1 = list_bit[1:5]\n",
        "        column_S = int(interim1, 2)\n",
        "        t1 = S_output[row_S]\n",
        "        t2 = t1[column_S]\n",
        "        list.append(bin(t2)[2:].zfill(4))\n",
        "    for iter3 in range(len(list)):\n",
        "        f_str = f_str + list[iter3]\n",
        "    f_perm_string = messagepermutation(f_str, P)\n",
        "    return f_perm_string\n",
        "\n",
        "print('F function')"
      ],
      "execution_count": 10,
      "outputs": [
        {
          "output_type": "stream",
          "name": "stdout",
          "text": [
            "F function\n"
          ]
        }
      ]
    },
    {
      "cell_type": "code",
      "metadata": {
        "colab": {
          "base_uri": "https://localhost:8080/"
        },
        "id": "lu4InRCCMg6d",
        "outputId": "d04871df-ba52-4375-dcf3-5ab776b1d4bb"
      },
      "source": [
        "print('encryption')\n",
        "key= b'\\x13\\x34\\x57\\x79\\x9b\\xbc\\xdf\\xf1'\n",
        "message = b'\\x01\\x23\\x45\\x67\\x89\\xab\\xcd\\xef'"
      ],
      "execution_count": 13,
      "outputs": [
        {
          "output_type": "stream",
          "name": "stdout",
          "text": [
            "encryption\n"
          ]
        }
      ]
    },
    {
      "cell_type": "code",
      "metadata": {
        "colab": {
          "base_uri": "https://localhost:8080/"
        },
        "id": "TLXCN9uWMjzW",
        "outputId": "7043db3c-61df-4b6b-b283-2f6772ab067f"
      },
      "source": [
        "def encryption_des_function(key,message):\n",
        "    l_message=''\n",
        "    r_message = ''\n",
        "    bin_key = bytes2binary(key)\n",
        "    new_bin_key = bin_key.zfill(64)\n",
        "    bin_message = bytes2binary(message)\n",
        "    new_bin_message = bin_message.zfill(64)\n",
        "    des_subkeys = des_subkeys_creation(new_bin_key)\n",
        "    permutated_message = messagepermutation(new_bin_message,IP)\n",
        "    l_message = permutated_message[0:32]\n",
        "    r_message = permutated_message[32:65]\n",
        "    temp_r_message = ''\n",
        "    final=''\n",
        "    for i in range(16):\n",
        "        r_message1 = f_function(r_message,des_subkeys[i])\n",
        "        l_message = bin_xor(l_message,r_message1)\n",
        "        temp_r_message = r_message\n",
        "        r_message = l_message\n",
        "        l_message = temp_r_message\n",
        "\n",
        "    final = r_message+l_message\n",
        "    # print(l_message)\n",
        "    # print(r_message)\n",
        "    ip_cipher_message = messagepermutation(final,IP_inverse)\n",
        "    ip_cipher_message1 = binary2bytes(ip_cipher_message)\n",
        "\n",
        "    return ip_cipher_message1\n",
        "\n",
        "\n",
        "\n",
        "print(encryption_des_function(key,message))"
      ],
      "execution_count": 17,
      "outputs": [
        {
          "output_type": "stream",
          "name": "stdout",
          "text": [
            "b'\\x85\\xe8\\x13T\\x0f\\n\\xb4\\x05'\n"
          ]
        }
      ]
    },
    {
      "cell_type": "code",
      "metadata": {
        "colab": {
          "base_uri": "https://localhost:8080/"
        },
        "id": "Zyy0VPQOMpBu",
        "outputId": "b9d578bf-3b18-4c32-81c7-66cbbcccb099"
      },
      "source": [
        "import os\n",
        "message = os.urandom(8)\n",
        "key = os.urandom(8)\n",
        "print(message)\n",
        "print(key)"
      ],
      "execution_count": 20,
      "outputs": [
        {
          "output_type": "stream",
          "name": "stdout",
          "text": [
            "b'\\xa1\\xe6\\x9fZ\\xdf\\xde\\xc7\\xa8'\n",
            "b'\\x1dS\\x8c\\xd4\\xf3X\\xd9\\xfc'\n"
          ]
        }
      ]
    },
    {
      "cell_type": "code",
      "metadata": {
        "colab": {
          "base_uri": "https://localhost:8080/"
        },
        "id": "Z1jcSJKlLmzo",
        "outputId": "61b6b460-4db0-4e3b-fce0-1055ee2025ff"
      },
      "source": [
        "#key= b'\\x13\\x34\\x57\\x79\\x9b\\xbc\\xdf\\xf1'\n",
        "#message = b'\\x01\\x23\\x45\\x67\\x89\\xab\\xcd\\xef'\n",
        "def des_library_encryption(message,key):\n",
        "  cipher = DES.new(key, DES.MODE_ECB)\n",
        "  plaintext = message\n",
        "  ciphermsg = cipher.encrypt(plaintext)\n",
        "  return ciphermsg\n",
        "#print(des_library_encryption(message,key))\n",
        "import os\n",
        "def are_random_all_pass(number_of_iteration):\n",
        "  result_list = []\n",
        "  for i in range(number_of_iteration):\n",
        "    message =  os.urandom(8)\n",
        "    key = os.urandom(8)\n",
        "    my_encryption = encryption_des_function(key,message)\n",
        "    library_encryption = des_library_encryption(message,key)\n",
        "    #print('Ciphertext from my encryption:',my_encryption)\n",
        "    #print('Ciphertext from Cipher.text library:',library_encryption)\n",
        "    if my_encryption == library_encryption:\n",
        "      print(True)\n",
        "    else:\n",
        "      print(False)\n",
        "are_random_all_pass(100)"
      ],
      "execution_count": 19,
      "outputs": [
        {
          "output_type": "stream",
          "name": "stdout",
          "text": [
            "True\n",
            "True\n",
            "True\n",
            "True\n",
            "True\n",
            "True\n",
            "True\n",
            "True\n",
            "True\n",
            "True\n",
            "True\n",
            "True\n",
            "True\n",
            "True\n",
            "True\n",
            "True\n",
            "True\n",
            "True\n",
            "True\n",
            "True\n",
            "True\n",
            "True\n",
            "True\n",
            "True\n",
            "True\n",
            "True\n",
            "True\n",
            "True\n",
            "True\n",
            "True\n",
            "True\n",
            "True\n",
            "True\n",
            "True\n",
            "True\n",
            "True\n",
            "True\n",
            "True\n",
            "True\n",
            "True\n",
            "True\n",
            "True\n",
            "True\n",
            "True\n",
            "True\n",
            "True\n",
            "True\n",
            "True\n",
            "True\n",
            "True\n",
            "True\n",
            "True\n",
            "True\n",
            "True\n",
            "True\n",
            "True\n",
            "True\n",
            "True\n",
            "True\n",
            "True\n",
            "True\n",
            "True\n",
            "True\n",
            "True\n",
            "True\n",
            "True\n",
            "True\n",
            "True\n",
            "True\n",
            "True\n",
            "True\n",
            "True\n",
            "True\n",
            "True\n",
            "True\n",
            "True\n",
            "True\n",
            "True\n",
            "True\n",
            "True\n",
            "True\n",
            "True\n",
            "True\n",
            "True\n",
            "True\n",
            "True\n",
            "True\n",
            "True\n",
            "True\n",
            "True\n",
            "True\n",
            "True\n",
            "True\n",
            "True\n",
            "True\n",
            "True\n",
            "True\n",
            "True\n",
            "True\n",
            "True\n"
          ]
        }
      ]
    }
  ]
}